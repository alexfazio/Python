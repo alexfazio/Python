{
  "nbformat": 4,
  "nbformat_minor": 0,
  "metadata": {
    "colab": {
      "provenance": [],
      "authorship_tag": "ABX9TyPJMskjRKT+vTTcxmdMOic9",
      "include_colab_link": true
    },
    "kernelspec": {
      "name": "python3",
      "display_name": "Python 3"
    },
    "language_info": {
      "name": "python"
    }
  },
  "cells": [
    {
      "cell_type": "markdown",
      "metadata": {
        "id": "view-in-github",
        "colab_type": "text"
      },
      "source": [
        "<a href=\"https://colab.research.google.com/github/alexfazio/Python/blob/main/tinyurl_shortener.ipynb\" target=\"_parent\"><img src=\"https://colab.research.google.com/assets/colab-badge.svg\" alt=\"Open In Colab\"/></a>"
      ]
    },
    {
      "cell_type": "markdown",
      "source": [
        "## TinyURL Shortener\n",
        "\n",
        "By [Alex Fazio](https://twitter.com/alxfazio) | [GitHub Repo](https://github.com/alexfazio/Python/)\n",
        "\n",
        "Shorten URLs effortlessly using the [TinyURL](https://tinyurl.com/app) API.\n",
        "\n",
        "To get started, simply run the first cell, paste your long URL, and press ⏎."
      ],
      "metadata": {
        "id": "nOtn5MSOJQvT"
      }
    },
    {
      "cell_type": "code",
      "execution_count": null,
      "metadata": {
        "colab": {
          "base_uri": "https://localhost:8080/"
        },
        "id": "nwnNyXQuCOqh",
        "outputId": "3d9cee2c-208c-4635-fcec-14111b732dc2"
      },
      "outputs": [
        {
          "output_type": "stream",
          "name": "stdout",
          "text": [
            "Enter your URL: https://claude.ai/chat/7b1bbc34-f2cd-4f63-8a79-811d789109db\n",
            "https://tinyurl.com/225m79qy"
          ]
        }
      ],
      "source": [
        "import sys\n",
        "\n",
        "try:\n",
        "    from urllib.parse import urlencode\n",
        "    from urllib.request import urlopen\n",
        "    input_func = input\n",
        "except ImportError:\n",
        "    from urllib import urlencode\n",
        "    from urllib2 import urlopen\n",
        "    input_func = raw_input\n",
        "\n",
        "def url_shorten(long_url):\n",
        "    \"\"\"\n",
        "    Shorten URL with tinyurl.com API.\n",
        "    :param long_url: str Long URL\n",
        "    :return short_url: str Short URL\n",
        "    \"\"\"\n",
        "    try:\n",
        "        request_url = 'http://tinyurl.com/api-create.php?' + urlencode({'url': long_url})\n",
        "        short_url = urlopen(request_url).read().decode('utf-8')\n",
        "        return short_url\n",
        "    except Exception as err:\n",
        "        return str(err)\n",
        "\n",
        "if __name__ == '__main__':\n",
        "    q = input_func(\"Enter your URL: \")\n",
        "    r = sys.stdout.write(url_shorten(q))"
      ]
    }
  ]
}