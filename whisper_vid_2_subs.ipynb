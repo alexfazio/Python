{
  "cells": [
    {
      "cell_type": "markdown",
      "metadata": {
        "id": "view-in-github",
        "colab_type": "text"
      },
      "source": [
        "<a href=\"https://colab.research.google.com/github/alexfazio/Python/blob/main/whisper_vid_2_subs.ipynb\" target=\"_parent\"><img src=\"https://colab.research.google.com/assets/colab-badge.svg\" alt=\"Open In Colab\"/></a>"
      ]
    },
    {
      "cell_type": "markdown",
      "source": [
        "## Subtitles Generator 🔤\n",
        "\n",
        "By [Alex Fazio](https://twitter.com/alxfazio) | [GitHub Repo](https://github.com/alexfazio/Python/)\n",
        "\n",
        "Automatically generate bilingual subtitles for your videos using OpenAI's [Whisper](https://github.com/openai/whisper) speech recognition model! 🌍\n",
        "\n",
        "Get started in just a few steps:\n",
        "1. Run the setup cells to install dependencies\n",
        "2. Provide your video file path or YouTube URL\n",
        "3. Choose your desired Whisper model and subtitle format\n",
        "4. Press ▶️ and let the magic happen!"
      ],
      "metadata": {
        "id": "KqY3JOBiSHzA"
      }
    },
    {
      "cell_type": "markdown",
      "metadata": {
        "id": "v5hvo8QWN-a9"
      },
      "source": [
        "# Install Requirements\n",
        "\n",
        "\n",
        "The commands below will install the Python packages needed to use Whisper models and evaluate the transcription results."
      ]
    },
    {
      "cell_type": "code",
      "execution_count": null,
      "metadata": {
        "id": "ZsJUxc0aRsAf"
      },
      "outputs": [],
      "source": [
        "!pip install -q git+https://github.com/openai/whisper.git\n",
        "!pip install -q pytube transformers sentencepiece tqdm"
      ]
    },
    {
      "cell_type": "code",
      "source": [
        "#@markdown ### Check Type of GPU and VRAM available.\n",
        "!nvidia-smi --query-gpu=name,memory.total,memory.free --format=csv,noheader"
      ],
      "metadata": {
        "id": "uk6Hn-_T_6L1"
      },
      "execution_count": null,
      "outputs": []
    },
    {
      "cell_type": "markdown",
      "source": [
        "# Transcribe the Video"
      ],
      "metadata": {
        "id": "5guXDmlu2Rxn"
      }
    },
    {
      "cell_type": "code",
      "source": [
        "import os\n",
        "from tqdm import tqdm\n",
        "import whisper\n",
        "import numpy as np\n",
        "from pathlib import Path\n",
        "from pytube import YouTube\n",
        "\n",
        "\n",
        "#@markdown If `video_path` is a YouTube link, the video will be downloaded at the `save_path`.\n",
        "video_path = 'filepath.mp4' #@param {type: 'string'}\n",
        "#@markdown Choose a Whisper model. `base` is the fastest and uses the least amount of memory.\n",
        "model_type = 'small'  #@param [\"base\", \"small\", \"medium\", \"large\"]\n",
        "#@markdown Video Language Code\n",
        "video_lang = 'en'   #@param {type: 'string'}\n",
        "#@markdown Where to save the video and subtitle.\n",
        "save_path = 'data'  #@param {type: 'string'}\n",
        "save_path = Path(save_path)\n",
        "save_path.mkdir(exist_ok=True, parents=True)\n",
        "#@markdown What to name the saved video and subtitle.\n",
        "filename = 'demo' #@param {type: 'string'}\n",
        "#@markdown Which format to save the subtitle in.\n",
        "format = 'srt' #@param [\"srt\", \"txt\"]\n",
        "\n",
        "\n",
        "\n",
        "def get_video_from_youtube_url(url, save_path=None, filename=None):\n",
        "    yt = YouTube(url)\n",
        "    video_file = str(save_path/f'{filename}.mp4')\n",
        "    s = (yt.streams.filter(progressive=True, file_extension='mp4')\n",
        "         .order_by('resolution').desc().first()\n",
        "    )\n",
        "    s.download(filename=video_file)\n",
        "    return video_file\n",
        "\n",
        "\n",
        "def transcribe(video, save_path, filename, model_type='small'):\n",
        "    if video.startswith('http'):\n",
        "        print(\"Downloading Youtube Video\\n\")\n",
        "        video = get_video_from_youtube_url(video, save_path=save_path, filename=filename\n",
        "        )\n",
        "    options = whisper.DecodingOptions(fp16=False, language=video_lang)\n",
        "    model = whisper.load_model(model_type)\n",
        "    result = model.transcribe(video, **options.__dict__, verbose=False)\n",
        "    return result, video\n",
        "\n",
        "\n",
        "def segments_to_srt(segs):\n",
        "    text = []\n",
        "    for i,s in tqdm(enumerate(segs)):\n",
        "        text.append(str(i+1))\n",
        "\n",
        "        time_start = s['start']\n",
        "        hours, minutes, seconds = int(time_start/3600), (time_start/60) % 60, (time_start) % 60\n",
        "        timestamp_start = \"%02d:%02d:%06.3f\" % (hours, minutes, seconds)\n",
        "        timestamp_start = timestamp_start.replace('.',',')\n",
        "        time_end = s['end']\n",
        "        hours, minutes, seconds = int(time_end/3600), (time_end/60) % 60, (time_end) % 60\n",
        "        timestamp_end = \"%02d:%02d:%06.3f\" % (hours, minutes, seconds)\n",
        "        timestamp_end = timestamp_end.replace('.',',')\n",
        "        text.append(timestamp_start + \" --> \" + timestamp_end)\n",
        "\n",
        "        text.append(s['text'].strip() + \"\\n\")\n",
        "\n",
        "    return \"\\n\".join(text)\n",
        "\n",
        "\n",
        "def convert_to_subtitle(segs):\n",
        "    if format == 'srt':\n",
        "        sub = segments_to_srt(segs)\n",
        "    elif format == 'txt':\n",
        "        sub = transcribed_text(segs)\n",
        "    else:\n",
        "        raise ValueError(f\"format {format} is not supported!\")\n",
        "    return sub\n",
        "\n",
        "\n",
        "def save_subtitle(sub, save_path, filename, format='srt'):\n",
        "    srt_file = save_path/f'{filename}.{format}'\n",
        "    with open(srt_file, 'w') as f:\n",
        "        f.write(sub)\n",
        "    return srt_file\n",
        "\n",
        "\n",
        "def transcribed_text(segs):\n",
        "    texts = [s['text'] for s in segs]\n",
        "    text = '\\n'.join(texts)\n",
        "    return text\n",
        "\n",
        "\n",
        "print(\"Loading the model\")\n",
        "model = whisper.load_model(f'{model_type}')\n",
        "print(\"Transcribing\")\n",
        "result, video = transcribe(video_path, save_path, filename, model_type=model_type)\n",
        "sub = convert_to_subtitle(result['segments'])\n",
        "sub_transcribed = save_subtitle(sub, save_path, filename+'-sub', format=format)\n",
        "print(f\"\\n\\nsubtitle is saved at {sub_transcribed}\")"
      ],
      "metadata": {
        "id": "hWgLFn4U2T2K"
      },
      "execution_count": null,
      "outputs": []
    }
  ],
  "metadata": {
    "accelerator": "GPU",
    "colab": {
      "provenance": [],
      "machine_shape": "hm",
      "gpuClass": "premium",
      "include_colab_link": true
    },
    "gpuClass": "premium",
    "kernelspec": {
      "display_name": "Python 3 (ipykernel)",
      "language": "python",
      "name": "python3"
    },
    "language_info": {
      "codemirror_mode": {
        "name": "ipython",
        "version": 3
      },
      "file_extension": ".py",
      "mimetype": "text/x-python",
      "name": "python",
      "nbconvert_exporter": "python",
      "pygments_lexer": "ipython3",
      "version": "3.9.9"
    }
  },
  "nbformat": 4,
  "nbformat_minor": 0
}